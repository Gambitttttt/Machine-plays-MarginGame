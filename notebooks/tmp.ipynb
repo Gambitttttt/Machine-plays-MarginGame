{
 "cells": [
  {
   "cell_type": "code",
   "execution_count": 1,
   "metadata": {},
   "outputs": [],
   "source": [
    "%load_ext autoreload \n",
    "%autoreload 2"
   ]
  },
  {
   "cell_type": "code",
   "execution_count": 2,
   "metadata": {},
   "outputs": [],
   "source": [
    "import os \n",
    "import sys \n",
    "sys.path.insert(0, '..')"
   ]
  },
  {
   "cell_type": "code",
   "execution_count": 6,
   "metadata": {},
   "outputs": [],
   "source": [
    "os.environ['PYTHONPATH'] = '/Users/antonandreytsev/Desktop/MarginGame'"
   ]
  },
  {
   "cell_type": "code",
   "execution_count": 95,
   "metadata": {},
   "outputs": [],
   "source": [
    "from src.players import (\n",
    "    Player,\n",
    "    Action\n",
    ")\n",
    "from src.fields import (\n",
    "    Field,\n",
    "    SberBank\n",
    ")\n",
    "from src.utils import read_game_config\n",
    "from configs.game_config import GAME_CONFIG"
   ]
  },
  {
   "cell_type": "code",
   "execution_count": 68,
   "metadata": {},
   "outputs": [
    {
     "data": {
      "text/plain": [
       "SberBank(id=1, name='SberBank', statistics={}, interest_rate=0.1)"
      ]
     },
     "execution_count": 68,
     "metadata": {},
     "output_type": "execute_result"
    }
   ],
   "source": [
    "sberbank_field = SberBank(id=1)\n",
    "sberbank_field"
   ]
  },
  {
   "cell_type": "code",
   "execution_count": 103,
   "metadata": {},
   "outputs": [
    {
     "data": {
      "text/plain": [
       "{'players': [{'name': 'Anton', 'money': 10, 'id': 1},\n",
       "  {'name': 'Tata', 'money': 10, 'id': 2},\n",
       "  {'name': 'Dima', 'money': 10, 'id': 3},\n",
       "  {'name': 'Yarik', 'money': 10, 'id': 4}],\n",
       " 'fields': [SberBank(id=1, name='SberBank', statistics={}, interest_rate=0.1),\n",
       "  CryptoStartup(id=2, name='CryptoStartup', statistics={}, success_probability=0.16, multiplier=3.5)]}"
      ]
     },
     "execution_count": 103,
     "metadata": {},
     "output_type": "execute_result"
    }
   ],
   "source": [
    "# game_config = read_game_config()\n",
    "# game_config\n",
    "game_config = GAME_CONFIG\n",
    "game_config"
   ]
  },
  {
   "cell_type": "code",
   "execution_count": 104,
   "metadata": {},
   "outputs": [
    {
     "name": "stdout",
     "output_type": "stream",
     "text": [
      "Player(name='Anton', money=10, id=1, history=[])\n",
      "Player(name='Tata', money=10, id=2, history=[])\n",
      "Player(name='Dima', money=10, id=3, history=[])\n",
      "Player(name='Yarik', money=10, id=4, history=[])\n"
     ]
    }
   ],
   "source": [
    "players=[\n",
    "    Player.from_dict(player_config_dict)\n",
    "    for player_config_dict in game_config['players']\n",
    "]\n",
    "for player in players:\n",
    "    print(player)"
   ]
  },
  {
   "cell_type": "code",
   "execution_count": 105,
   "metadata": {},
   "outputs": [
    {
     "name": "stdout",
     "output_type": "stream",
     "text": [
      "SberBank(id=1, name='SberBank', statistics={}, interest_rate=0.1)\n",
      "CryptoStartup(id=2, name='CryptoStartup', statistics={}, success_probability=0.16, multiplier=3.5)\n"
     ]
    }
   ],
   "source": [
    "fields = game_config['fields']\n",
    "for field in fields:\n",
    "    print(field)"
   ]
  },
  {
   "cell_type": "code",
   "execution_count": 106,
   "metadata": {},
   "outputs": [
    {
     "data": {
      "text/plain": [
       "[Player(name='Anton', money=10, id=1, history=[Action(field_id=1, money_invested=10)]),\n",
       " Player(name='Tata', money=10, id=2, history=[]),\n",
       " Player(name='Dima', money=10, id=3, history=[Action(field_id=2, money_invested=5)]),\n",
       " Player(name='Yarik', money=10, id=4, history=[])]"
      ]
     },
     "execution_count": 106,
     "metadata": {},
     "output_type": "execute_result"
    }
   ],
   "source": [
    "players[0].history.append(\n",
    "    Action.from_dict({\"field_id\": 1, \"money_invested\": 10})\n",
    ")\n",
    "players[2].history.append(\n",
    "    Action.from_dict({\"field_id\": 2, \"money_invested\": 5})\n",
    ")\n",
    "players"
   ]
  },
  {
   "cell_type": "code",
   "execution_count": 108,
   "metadata": {},
   "outputs": [
    {
     "data": {
      "text/plain": [
       "{1: Action(field_id=1, money_invested=10),\n",
       " 3: Action(field_id=2, money_invested=5)}"
      ]
     },
     "execution_count": 108,
     "metadata": {},
     "output_type": "execute_result"
    }
   ],
   "source": [
    "players_actions = {\n",
    "    player.id: player.get_last_action()\n",
    "    for player in players\n",
    "    if len(player.history) > 0\n",
    "}\n",
    "players_actions"
   ]
  },
  {
   "cell_type": "code",
   "execution_count": 109,
   "metadata": {},
   "outputs": [
    {
     "data": {
      "text/plain": [
       "{1: 11.0}"
      ]
     },
     "execution_count": 109,
     "metadata": {},
     "output_type": "execute_result"
    }
   ],
   "source": [
    "fields[0].return_revenues(\n",
    "    players_actions=players_actions\n",
    ")\n"
   ]
  },
  {
   "cell_type": "code",
   "execution_count": 113,
   "metadata": {},
   "outputs": [
    {
     "data": {
      "text/plain": [
       "{3: 17.5}"
      ]
     },
     "execution_count": 113,
     "metadata": {},
     "output_type": "execute_result"
    }
   ],
   "source": [
    "fields[1].return_revenues(\n",
    "    players_actions=players_actions\n",
    ")\n"
   ]
  },
  {
   "cell_type": "code",
   "execution_count": null,
   "metadata": {},
   "outputs": [],
   "source": []
  }
 ],
 "metadata": {
  "kernelspec": {
   "display_name": "margingame_venv3.10.13",
   "language": "python",
   "name": "python3"
  },
  "language_info": {
   "codemirror_mode": {
    "name": "ipython",
    "version": 3
   },
   "file_extension": ".py",
   "mimetype": "text/x-python",
   "name": "python",
   "nbconvert_exporter": "python",
   "pygments_lexer": "ipython3",
   "version": "3.10.13"
  }
 },
 "nbformat": 4,
 "nbformat_minor": 2
}
